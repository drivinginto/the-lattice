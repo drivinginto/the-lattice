{
 "cells": [
  {
   "cell_type": "code",
   "execution_count": 1,
   "id": "88b0e96d",
   "metadata": {},
   "outputs": [],
   "source": [
    "import signac"
   ]
  },
  {
   "cell_type": "code",
   "execution_count": 21,
   "id": "9ca85691",
   "metadata": {},
   "outputs": [],
   "source": [
    "molecule = \"\"\n",
    "project = signac.get_project(molecule)"
   ]
  },
  {
   "cell_type": "code",
   "execution_count": 22,
   "id": "0119a33e",
   "metadata": {},
   "outputs": [
    {
     "data": {
      "text/html": [
       "<p><strong>Project:</strong> IEICO<br><strong>Root:</strong> /home/becky/rdf/IEICO<br><strong>Workspace:</strong> /home/becky/rdf/IEICO/workspace<br><strong>Size:</strong> 230</p><br/><strong>230</strong> job(s) found"
      ],
      "text/plain": [
       "Project.get_project('/home/becky/rdf/IEICO')"
      ]
     },
     "execution_count": 22,
     "metadata": {},
     "output_type": "execute_result"
    }
   ],
   "source": [
    "project"
   ]
  },
  {
   "cell_type": "code",
   "execution_count": 23,
   "id": "90969c73",
   "metadata": {},
   "outputs": [],
   "source": [
    "import numpy as np\n",
    "import matplotlib.pyplot as plt\n",
    "import freud\n",
    "import signac\n",
    "import gsd\n",
    "import hoomd\n",
    "import gsd.pygsd\n",
    "import gsd.hoomd\n",
    "import scipy\n",
    "from scipy import signal\n",
    "import time\n",
    "import os\n",
    "import cycler\n",
    "from scipy.stats import linregress\n",
    "from scipy.sparse import csr_matrix\n",
    "from scipy.sparse.csgraph import connected_components\n",
    "import cmeutils\n",
    "from cmeutils import structure"
   ]
  },
  {
   "cell_type": "code",
   "execution_count": 24,
   "id": "5161ec2d",
   "metadata": {},
   "outputs": [],
   "source": [
    "\n",
    "\n",
    "molecule_path = \"/home/becky/rdf/{}\".format(molecule)\n",
    "molecule_project = signac.get_project(molecule_path)\n",
    "\n"
   ]
  },
  {
   "cell_type": "code",
   "execution_count": 25,
   "id": "b6cf4d9d",
   "metadata": {},
   "outputs": [
    {
     "name": "stdout",
     "output_type": "stream",
     "text": [
      "50000000.0\n",
      "854606a57e0452a44b2313a45acb1157\n",
      "50000000.0\n",
      "a90d2774152a3988925a0a8605b4eb58\n",
      "50000000.0\n",
      "f5e902dc7b16bc4bbd0e4940d81bfc6f\n",
      "50000000.0\n",
      "8cfa1232596693d2ab5cd1302c4541ca\n",
      "50000000.0\n",
      "74bb2300ec718af5911e62d5c3662d49\n",
      "50000000.0\n",
      "c5d6b7876460d8cdced0d71c88dfec88\n",
      "50000000.0\n",
      "32e404138e6f23ee3de4f13a42fe7a14\n",
      "50000000.0\n",
      "062558670ab8f5214ccd3be15d49aca3\n",
      "50000000.0\n",
      "c278727a5f2d4f0e5fb7ee1f0a6c59ee\n",
      "50000000.0\n",
      "629f17863169f264166cad1a9b19c919\n",
      "50000000.0\n",
      "5fa9b6f368b579b0bd8284a98ef04ef6\n",
      "50000000.0\n",
      "8a6e04fd0a833063357b364aac16e5f3\n",
      "50000000.0\n",
      "3be2283537a9b843a4fb8ec6298ad7f6\n",
      "50000000.0\n",
      "f0f2b1b2c90f6937725e55a6ad989619\n",
      "50000000.0\n",
      "0e8879776d68cc3a71a25d219a8915b4\n",
      "50000000.0\n",
      "566db06d1276f544ed959a8b385accad\n",
      "50000000.0\n",
      "ded2b22058fbba0a1cce454ee5090892\n",
      "50000000.0\n",
      "10241710cfb936241e2bc16426b3ba89\n",
      "50000000.0\n",
      "d1a1e41480afaf04cf746308b6e3254b\n",
      "50000000.0\n",
      "6735d8e8d058d564bd0252669a179da3\n",
      "50000000.0\n",
      "04ed469659f631ae0e82842cf743c531\n",
      "50000000.0\n",
      "5ac58261ef4dfe2f865be580af46b8d0\n",
      "50000000.0\n",
      "25149cbf1f28fa7123b6e48bddffb957\n"
     ]
    }
   ],
   "source": [
    "state_dict={\n",
    "            \"n_compounds\": 200,\n",
    "            \"density\": [1.0, \"g/cm**3\"],\n",
    "            #\"kT_reduced\": 0.5\n",
    "            }\n",
    "job_list = molecule_project.find_jobs(state_dict)\n",
    "for job in job_list:\n",
    "    print(job.sp['n_steps'])\n",
    "    print(job)\n"
   ]
  },
  {
   "cell_type": "code",
   "execution_count": 26,
   "id": "ec4059ac",
   "metadata": {},
   "outputs": [],
   "source": [
    "def plot_txt(constant=\"den\"): \n",
    "    if constant == \"den\":\n",
    "        state_dict['kT_reduced.$lt'] = 3\n",
    "        fig = plt.figure()\n",
    "        color = plt.cm.coolwarm(np.linspace(0, 1, len(job_list)))\n",
    "        plt.rcParams['axes.prop_cycle'] = cycler.cycler('color', color)\n",
    "        for kT,job in job_list.groupby('kT_reduced'):\n",
    "            job = list(job)[0]\n",
    "            A_name = \"c\"\n",
    "            B_name = \"c\"\n",
    "            txt_path= job.fn('rdf_txt/c_rdf.txt')\n",
    "            line= np.genfromtxt(txt_path, names=True, delimiter=\",\")\n",
    "            x= line[\"bin_centers\"]\n",
    "            y= line[\"rdf\"]\n",
    "            plt.plot(x, y, label=kT)   \n",
    "        plt.xlabel(\"r (A.U.)\")\n",
    "        plt.ylabel(\"g(r)\")\n",
    "        plt.title(\"%s and %s's at %s den\" % (A_name, B_name, job.sp['density']), fontsize=16)\n",
    "        plt.legend(bbox_to_anchor=(1.5, 1), ncol=2)\n",
    "    elif constant == \"temp\":\n",
    "        state_dict['density.$lt'] = (1.0, \"g/cm**3\")\n",
    "        fig = plt.figure()\n",
    "        color = plt.cm.coolwarm(np.linspace(0, 1, len(job_list)))\n",
    "        plt.rcParams['axes.prop_cycle'] = cycler.cycler('color', color)\n",
    "        for den,job in job_list.groupby('density'):\n",
    "            job = list(job)[0]\n",
    "            A_name = \"c\"\n",
    "            B_name = \"c\"\n",
    "            txt_path= job.fn('rdf_txt/c_rdf.txt'.format(A_name[0], B_name[0]))\n",
    "            line= np.genfromtxt(txt_path, names=True, delimiter=\",\")\n",
    "            x= line[\"bin_centers\"]\n",
    "            y= line[\"rdf\"]\n",
    "            plt.plot(x, y, label=den)\n",
    "        plt.xlabel(\"r (A.U.)\")\n",
    "        plt.ylabel(\"g(r)\")\n",
    "        plt.title(\"%s and %s's at %s kT_reduced\" % (A_name, B_name, job.sp['kT_reduced']), fontsize=16)\n",
    "        plt.legend(bbox_to_anchor=(2, 1), ncol=2)\n",
    "    elif constant == \"both\":\n",
    "        fig = plt.figure()\n",
    "        color = plt.cm.brg(np.linspace(0, 1, len(job_list)))\n",
    "        plt.rcParams['axes.prop_cycle'] = cycler.cycler('color', color)\n",
    "        for mer,job in job_list.groupby('molecule'):\n",
    "            job = list(job)[0]\n",
    "            A_name = \"c\"\n",
    "            B_name = \"c\"\n",
    "            txt_path= job.fn('rdf_txt/c_rdf.txt'.format(A_name[0], B_name[0]))\n",
    "            line= np.genfromtxt(txt_path, names=True, delimiter=\",\")\n",
    "            x= line[\"bin_centers\"]\n",
    "            y= line[\"rdf\"]\n",
    "            plt.plot(x, y, label=mer)\n",
    "        plt.xlabel(\"r (A.U.)\")\n",
    "        plt.ylabel(\"g(r)\")\n",
    "        plt.title(\"%s and %s's at %s den %s kT\" % (A_name, B_name, job.sp['density'], job.sp['kT_reduced']), fontsize=16)\n",
    "        plt.legend(bbox_to_anchor=(1.5, 1), ncol=2)\n"
   ]
  },
  {
   "cell_type": "code",
   "execution_count": 27,
   "id": "cded48dc",
   "metadata": {},
   "outputs": [
    {
     "ename": "OSError",
     "evalue": "/home/becky/rdf/IEICO/workspace/566db06d1276f544ed959a8b385accad/rdf_txt/c_rdf.txt not found.",
     "output_type": "error",
     "traceback": [
      "\u001b[0;31m---------------------------------------------------------------------------\u001b[0m",
      "\u001b[0;31mOSError\u001b[0m                                   Traceback (most recent call last)",
      "\u001b[0;32m<ipython-input-27-54f9e1c96833>\u001b[0m in \u001b[0;36m<module>\u001b[0;34m\u001b[0m\n\u001b[0;32m----> 1\u001b[0;31m \u001b[0mplot_txt\u001b[0m\u001b[0;34m(\u001b[0m\u001b[0mconstant\u001b[0m\u001b[0;34m=\u001b[0m\u001b[0;34m\"den\"\u001b[0m\u001b[0;34m)\u001b[0m\u001b[0;34m\u001b[0m\u001b[0;34m\u001b[0m\u001b[0m\n\u001b[0m\u001b[1;32m      2\u001b[0m \u001b[0;31m#constant= \"den\" for density, \"temp\" for temperature,\u001b[0m\u001b[0;34m\u001b[0m\u001b[0;34m\u001b[0m\u001b[0;34m\u001b[0m\u001b[0m\n\u001b[1;32m      3\u001b[0m \u001b[0;31m#\"both\" to compare polymer lengths at constant temperature and density\u001b[0m\u001b[0;34m\u001b[0m\u001b[0;34m\u001b[0m\u001b[0;34m\u001b[0m\u001b[0m\n",
      "\u001b[0;32m<ipython-input-26-b9f5b7b4719f>\u001b[0m in \u001b[0;36mplot_txt\u001b[0;34m(constant)\u001b[0m\n\u001b[1;32m     10\u001b[0m             \u001b[0mB_name\u001b[0m \u001b[0;34m=\u001b[0m \u001b[0;34m\"c\"\u001b[0m\u001b[0;34m\u001b[0m\u001b[0;34m\u001b[0m\u001b[0m\n\u001b[1;32m     11\u001b[0m             \u001b[0mtxt_path\u001b[0m\u001b[0;34m=\u001b[0m \u001b[0mjob\u001b[0m\u001b[0;34m.\u001b[0m\u001b[0mfn\u001b[0m\u001b[0;34m(\u001b[0m\u001b[0;34m'rdf_txt/c_rdf.txt'\u001b[0m\u001b[0;34m)\u001b[0m\u001b[0;34m\u001b[0m\u001b[0;34m\u001b[0m\u001b[0m\n\u001b[0;32m---> 12\u001b[0;31m             \u001b[0mline\u001b[0m\u001b[0;34m=\u001b[0m \u001b[0mnp\u001b[0m\u001b[0;34m.\u001b[0m\u001b[0mgenfromtxt\u001b[0m\u001b[0;34m(\u001b[0m\u001b[0mtxt_path\u001b[0m\u001b[0;34m,\u001b[0m \u001b[0mnames\u001b[0m\u001b[0;34m=\u001b[0m\u001b[0;32mTrue\u001b[0m\u001b[0;34m,\u001b[0m \u001b[0mdelimiter\u001b[0m\u001b[0;34m=\u001b[0m\u001b[0;34m\",\"\u001b[0m\u001b[0;34m)\u001b[0m\u001b[0;34m\u001b[0m\u001b[0;34m\u001b[0m\u001b[0m\n\u001b[0m\u001b[1;32m     13\u001b[0m             \u001b[0mx\u001b[0m\u001b[0;34m=\u001b[0m \u001b[0mline\u001b[0m\u001b[0;34m[\u001b[0m\u001b[0;34m\"bin_centers\"\u001b[0m\u001b[0;34m]\u001b[0m\u001b[0;34m\u001b[0m\u001b[0;34m\u001b[0m\u001b[0m\n\u001b[1;32m     14\u001b[0m             \u001b[0my\u001b[0m\u001b[0;34m=\u001b[0m \u001b[0mline\u001b[0m\u001b[0;34m[\u001b[0m\u001b[0;34m\"rdf\"\u001b[0m\u001b[0;34m]\u001b[0m\u001b[0;34m\u001b[0m\u001b[0;34m\u001b[0m\u001b[0m\n",
      "\u001b[0;32m~/miniconda3/envs/cmeutils/lib/python3.7/site-packages/numpy/lib/npyio.py\u001b[0m in \u001b[0;36mgenfromtxt\u001b[0;34m(fname, dtype, comments, delimiter, skip_header, skip_footer, converters, missing_values, filling_values, usecols, names, excludelist, deletechars, replace_space, autostrip, case_sensitive, defaultfmt, unpack, usemask, loose, invalid_raise, max_rows, encoding, like)\u001b[0m\n\u001b[1;32m   1791\u001b[0m             \u001b[0mfname\u001b[0m \u001b[0;34m=\u001b[0m \u001b[0mos_fspath\u001b[0m\u001b[0;34m(\u001b[0m\u001b[0mfname\u001b[0m\u001b[0;34m)\u001b[0m\u001b[0;34m\u001b[0m\u001b[0;34m\u001b[0m\u001b[0m\n\u001b[1;32m   1792\u001b[0m         \u001b[0;32mif\u001b[0m \u001b[0misinstance\u001b[0m\u001b[0;34m(\u001b[0m\u001b[0mfname\u001b[0m\u001b[0;34m,\u001b[0m \u001b[0mstr\u001b[0m\u001b[0;34m)\u001b[0m\u001b[0;34m:\u001b[0m\u001b[0;34m\u001b[0m\u001b[0;34m\u001b[0m\u001b[0m\n\u001b[0;32m-> 1793\u001b[0;31m             \u001b[0mfid\u001b[0m \u001b[0;34m=\u001b[0m \u001b[0mnp\u001b[0m\u001b[0;34m.\u001b[0m\u001b[0mlib\u001b[0m\u001b[0;34m.\u001b[0m\u001b[0m_datasource\u001b[0m\u001b[0;34m.\u001b[0m\u001b[0mopen\u001b[0m\u001b[0;34m(\u001b[0m\u001b[0mfname\u001b[0m\u001b[0;34m,\u001b[0m \u001b[0;34m'rt'\u001b[0m\u001b[0;34m,\u001b[0m \u001b[0mencoding\u001b[0m\u001b[0;34m=\u001b[0m\u001b[0mencoding\u001b[0m\u001b[0;34m)\u001b[0m\u001b[0;34m\u001b[0m\u001b[0;34m\u001b[0m\u001b[0m\n\u001b[0m\u001b[1;32m   1794\u001b[0m             \u001b[0mfid_ctx\u001b[0m \u001b[0;34m=\u001b[0m \u001b[0mcontextlib\u001b[0m\u001b[0;34m.\u001b[0m\u001b[0mclosing\u001b[0m\u001b[0;34m(\u001b[0m\u001b[0mfid\u001b[0m\u001b[0;34m)\u001b[0m\u001b[0;34m\u001b[0m\u001b[0;34m\u001b[0m\u001b[0m\n\u001b[1;32m   1795\u001b[0m         \u001b[0;32melse\u001b[0m\u001b[0;34m:\u001b[0m\u001b[0;34m\u001b[0m\u001b[0;34m\u001b[0m\u001b[0m\n",
      "\u001b[0;32m~/miniconda3/envs/cmeutils/lib/python3.7/site-packages/numpy/lib/_datasource.py\u001b[0m in \u001b[0;36mopen\u001b[0;34m(path, mode, destpath, encoding, newline)\u001b[0m\n\u001b[1;32m    191\u001b[0m \u001b[0;34m\u001b[0m\u001b[0m\n\u001b[1;32m    192\u001b[0m     \u001b[0mds\u001b[0m \u001b[0;34m=\u001b[0m \u001b[0mDataSource\u001b[0m\u001b[0;34m(\u001b[0m\u001b[0mdestpath\u001b[0m\u001b[0;34m)\u001b[0m\u001b[0;34m\u001b[0m\u001b[0;34m\u001b[0m\u001b[0m\n\u001b[0;32m--> 193\u001b[0;31m     \u001b[0;32mreturn\u001b[0m \u001b[0mds\u001b[0m\u001b[0;34m.\u001b[0m\u001b[0mopen\u001b[0m\u001b[0;34m(\u001b[0m\u001b[0mpath\u001b[0m\u001b[0;34m,\u001b[0m \u001b[0mmode\u001b[0m\u001b[0;34m,\u001b[0m \u001b[0mencoding\u001b[0m\u001b[0;34m=\u001b[0m\u001b[0mencoding\u001b[0m\u001b[0;34m,\u001b[0m \u001b[0mnewline\u001b[0m\u001b[0;34m=\u001b[0m\u001b[0mnewline\u001b[0m\u001b[0;34m)\u001b[0m\u001b[0;34m\u001b[0m\u001b[0;34m\u001b[0m\u001b[0m\n\u001b[0m\u001b[1;32m    194\u001b[0m \u001b[0;34m\u001b[0m\u001b[0m\n\u001b[1;32m    195\u001b[0m \u001b[0;34m\u001b[0m\u001b[0m\n",
      "\u001b[0;32m~/miniconda3/envs/cmeutils/lib/python3.7/site-packages/numpy/lib/_datasource.py\u001b[0m in \u001b[0;36mopen\u001b[0;34m(self, path, mode, encoding, newline)\u001b[0m\n\u001b[1;32m    531\u001b[0m                                       encoding=encoding, newline=newline)\n\u001b[1;32m    532\u001b[0m         \u001b[0;32melse\u001b[0m\u001b[0;34m:\u001b[0m\u001b[0;34m\u001b[0m\u001b[0;34m\u001b[0m\u001b[0m\n\u001b[0;32m--> 533\u001b[0;31m             \u001b[0;32mraise\u001b[0m \u001b[0mIOError\u001b[0m\u001b[0;34m(\u001b[0m\u001b[0;34m\"%s not found.\"\u001b[0m \u001b[0;34m%\u001b[0m \u001b[0mpath\u001b[0m\u001b[0;34m)\u001b[0m\u001b[0;34m\u001b[0m\u001b[0;34m\u001b[0m\u001b[0m\n\u001b[0m\u001b[1;32m    534\u001b[0m \u001b[0;34m\u001b[0m\u001b[0m\n\u001b[1;32m    535\u001b[0m \u001b[0;34m\u001b[0m\u001b[0m\n",
      "\u001b[0;31mOSError\u001b[0m: /home/becky/rdf/IEICO/workspace/566db06d1276f544ed959a8b385accad/rdf_txt/c_rdf.txt not found."
     ]
    },
    {
     "data": {
      "text/plain": [
       "<Figure size 432x288 with 0 Axes>"
      ]
     },
     "metadata": {},
     "output_type": "display_data"
    }
   ],
   "source": [
    "plot_txt(constant=\"den\") \n",
    "#constant= \"den\" for density, \"temp\" for temperature, \n",
    "#\"both\" to compare polymer lengths at constant temperature and density\n"
   ]
  },
  {
   "cell_type": "code",
   "execution_count": null,
   "id": "b3e3150f",
   "metadata": {},
   "outputs": [],
   "source": []
  },
  {
   "cell_type": "code",
   "execution_count": null,
   "id": "df800839",
   "metadata": {},
   "outputs": [],
   "source": []
  }
 ],
 "metadata": {
  "kernelspec": {
   "display_name": "Python 3",
   "language": "python",
   "name": "python3"
  },
  "language_info": {
   "codemirror_mode": {
    "name": "ipython",
    "version": 3
   },
   "file_extension": ".py",
   "mimetype": "text/x-python",
   "name": "python",
   "nbconvert_exporter": "python",
   "pygments_lexer": "ipython3",
   "version": "3.7.10"
  }
 },
 "nbformat": 4,
 "nbformat_minor": 5
}
