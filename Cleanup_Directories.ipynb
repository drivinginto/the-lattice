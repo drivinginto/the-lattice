{
 "cells": [
  {
   "cell_type": "code",
   "execution_count": 1,
   "id": "0b139354-a172-4ebb-a7b1-3ce894d2a948",
   "metadata": {},
   "outputs": [
    {
     "ename": "IndentationError",
     "evalue": "unexpected indent (<ipython-input-1-6c285aaf4f49>, line 22)",
     "output_type": "error",
     "traceback": [
      "\u001b[0;36m  File \u001b[0;32m\"<ipython-input-1-6c285aaf4f49>\"\u001b[0;36m, line \u001b[0;32m22\u001b[0m\n\u001b[0;31m    1,1           Top\u001b[0m\n\u001b[0m    ^\u001b[0m\n\u001b[0;31mIndentationError\u001b[0m\u001b[0;31m:\u001b[0m unexpected indent\n"
     ]
    }
   ],
   "source": [
    "import signac\n",
    "import os\n",
    "import shutil\n",
    "\n",
    "def copytree(src, dst, symlinks=False, ignore=None):\n",
    "    for item in os.listdir(src):\n",
    "        s = os.path.join(src, item)\n",
    "        d = os.path.join(dst, item)\n",
    "        if os.path.isdir(s):\n",
    "            shutil.copytree(s, d, symlinks, ignore)\n",
    "        else:\n",
    "            shutil.copy2(s, d)\n",
    "\n",
    "os.mkdir(\"clean\")\n",
    "project = signac.get_project()\n",
    "inputs = project.detect_schema()['input']\n",
    "molecules = []\n",
    "for i in inputs:\n",
    "    for j in inputs[i]:\n",
    "        molecules.append(j[0])\n",
    "        \n",
    "### To move all signac files into separate directories based on molecule type. \n",
    "                                                              1,1           Top\n"
   ]
  }
 ],
 "metadata": {
  "kernelspec": {
   "display_name": "Python 3",
   "language": "python",
   "name": "python3"
  },
  "language_info": {
   "codemirror_mode": {
    "name": "ipython",
    "version": 3
   },
   "file_extension": ".py",
   "mimetype": "text/x-python",
   "name": "python",
   "nbconvert_exporter": "python",
   "pygments_lexer": "ipython3",
   "version": "3.8.0"
  }
 },
 "nbformat": 4,
 "nbformat_minor": 5
}
